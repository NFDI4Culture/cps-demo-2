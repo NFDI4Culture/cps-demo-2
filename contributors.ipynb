{
 "cells": [
  {
   "cell_type": "markdown",
   "metadata": {},
   "source": [
    "---\n",
    "jupyter: python3\n",
    "execute:\n",
    "  echo: false\n",
    "  output: asis \n",
    "title: Kolophon\n",
    "sidebar: false\n",
    "---"
   ]
  },
  {
   "cell_type": "markdown",
   "metadata": {},
   "source": [
    "\n",
    "Name 1, *University X*, [Orcid](https://orcid.org/)\n",
    "\n",
    "Name 2, *University Y*, [Orcid](https://orcid.org/)\n",
    "\n",
    "Name 3, *University Z*, [Orcid](https://orcid.org/)"
   ]
  }
 ],
 "metadata": {
  "language_info": {
   "name": "python"
  }
 },
 "nbformat": 4,
 "nbformat_minor": 2
}
